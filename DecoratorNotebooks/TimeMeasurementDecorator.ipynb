{
 "cells": [
  {
   "cell_type": "markdown",
   "id": "behind-activation",
   "metadata": {},
   "source": [
    "## Time decorator"
   ]
  },
  {
   "cell_type": "code",
   "execution_count": 4,
   "id": "suitable-scanning",
   "metadata": {},
   "outputs": [],
   "source": [
    "import time\n",
    "\n",
    "def time_decorator(func):\n",
    "    def wrapper(*args):\n",
    "        start = time.time()\n",
    "        func(*args)\n",
    "        end = time.time()\n",
    "        return f'{end - start} seconds'\n",
    "    return wrapper"
   ]
  },
  {
   "cell_type": "code",
   "execution_count": 5,
   "id": "wrong-commonwealth",
   "metadata": {},
   "outputs": [],
   "source": [
    "@time_decorator\n",
    "def addition(x, y, z):\n",
    "    result = x + y + z\n",
    "    return result"
   ]
  },
  {
   "cell_type": "code",
   "execution_count": 53,
   "id": "under-hebrew",
   "metadata": {},
   "outputs": [
    {
     "data": {
      "text/plain": [
       "'1.1920928955078125e-06 seconds'"
      ]
     },
     "execution_count": 53,
     "metadata": {},
     "output_type": "execute_result"
    }
   ],
   "source": [
    "addition(1, 2, 3)"
   ]
  },
  {
   "cell_type": "code",
   "execution_count": 54,
   "id": "incredible-liberia",
   "metadata": {},
   "outputs": [],
   "source": [
    "@time_decorator\n",
    "def lenOfString(text):\n",
    "    result = len(text)\n",
    "    return result"
   ]
  },
  {
   "cell_type": "code",
   "execution_count": 55,
   "id": "electric-calculation",
   "metadata": {},
   "outputs": [
    {
     "data": {
      "text/plain": [
       "'1.430511474609375e-06 seconds'"
      ]
     },
     "execution_count": 55,
     "metadata": {},
     "output_type": "execute_result"
    }
   ],
   "source": [
    "lenOfString('Hello my name is David!')"
   ]
  }
 ],
 "metadata": {
  "kernelspec": {
   "display_name": "Python 3",
   "language": "python",
   "name": "python3"
  },
  "language_info": {
   "codemirror_mode": {
    "name": "ipython",
    "version": 3
   },
   "file_extension": ".py",
   "mimetype": "text/x-python",
   "name": "python",
   "nbconvert_exporter": "python",
   "pygments_lexer": "ipython3",
   "version": "3.8.8"
  }
 },
 "nbformat": 4,
 "nbformat_minor": 5
}
