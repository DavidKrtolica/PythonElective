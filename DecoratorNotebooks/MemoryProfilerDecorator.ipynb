{
 "cells": [
  {
   "cell_type": "markdown",
   "id": "frequent-motel",
   "metadata": {},
   "source": [
    "## Memory profiler\n"
   ]
  },
  {
   "cell_type": "code",
   "execution_count": 1,
   "id": "developmental-target",
   "metadata": {},
   "outputs": [],
   "source": [
    "import resource"
   ]
  },
  {
   "cell_type": "code",
   "execution_count": 8,
   "id": "lesbian-house",
   "metadata": {},
   "outputs": [],
   "source": [
    "def memory_usage_decorator(func):\n",
    "    def wrapper(*args):\n",
    "        x = func(*args)\n",
    "        usage = resource.getrusage(resource.RUSAGE_SELF).ru_maxrss\n",
    "        return f'Result of passed function: {x}, total memory usage: {usage} kilobytes / {usage / 1024} megabytes'\n",
    "    return wrapper"
   ]
  },
  {
   "cell_type": "code",
   "execution_count": 9,
   "id": "julian-senate",
   "metadata": {},
   "outputs": [],
   "source": [
    "@memory_usage_decorator\n",
    "def addition(x, y):\n",
    "    return f'{x + y}'"
   ]
  },
  {
   "cell_type": "code",
   "execution_count": 10,
   "id": "preliminary-importance",
   "metadata": {},
   "outputs": [
    {
     "data": {
      "text/plain": [
       "'Result of passed function: 90, total memory usage: 60320 kilobytes / 58.90625 megabytes'"
      ]
     },
     "execution_count": 10,
     "metadata": {},
     "output_type": "execute_result"
    }
   ],
   "source": [
    "addition(25, 65)"
   ]
  },
  {
   "cell_type": "code",
   "execution_count": 11,
   "id": "competent-nerve",
   "metadata": {},
   "outputs": [],
   "source": [
    "@memory_usage_decorator\n",
    "def lenOfStr(text):\n",
    "    return len(text)"
   ]
  },
  {
   "cell_type": "code",
   "execution_count": 12,
   "id": "genuine-folks",
   "metadata": {},
   "outputs": [
    {
     "data": {
      "text/plain": [
       "'Result of passed function: 23, total memory usage: 60320 kilobytes / 58.90625 megabytes'"
      ]
     },
     "execution_count": 12,
     "metadata": {},
     "output_type": "execute_result"
    }
   ],
   "source": [
    "lenOfStr('Hello my name is David!')"
   ]
  },
  {
   "cell_type": "code",
   "execution_count": 17,
   "id": "killing-karma",
   "metadata": {},
   "outputs": [],
   "source": [
    "@memory_usage_decorator\n",
    "def moreComplexMethod(arr, arr2):\n",
    "    arr2.append(7)\n",
    "    arr3 = arr + arr2\n",
    "    arr3[0] = 7\n",
    "    arr4 = arr3[2:5]\n",
    "    return arr4"
   ]
  },
  {
   "cell_type": "code",
   "execution_count": 20,
   "id": "rotary-moscow",
   "metadata": {},
   "outputs": [
    {
     "data": {
      "text/plain": [
       "'Result of passed function: [3, 4, 5], total memory usage: 60320 kilobytes / 58.90625 megabytes'"
      ]
     },
     "execution_count": 20,
     "metadata": {},
     "output_type": "execute_result"
    }
   ],
   "source": [
    "moreComplexMethod([1, 2, 3], [4, 5, 6])"
   ]
  }
 ],
 "metadata": {
  "kernelspec": {
   "display_name": "Python 3",
   "language": "python",
   "name": "python3"
  },
  "language_info": {
   "codemirror_mode": {
    "name": "ipython",
    "version": 3
   },
   "file_extension": ".py",
   "mimetype": "text/x-python",
   "name": "python",
   "nbconvert_exporter": "python",
   "pygments_lexer": "ipython3",
   "version": "3.8.8"
  }
 },
 "nbformat": 4,
 "nbformat_minor": 5
}
