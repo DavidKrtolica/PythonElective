{
 "cells": [
  {
   "cell_type": "code",
   "execution_count": 40,
   "metadata": {},
   "outputs": [],
   "source": [
    "import random\n",
    "\n",
    "names = ['John', 'Corey', 'Adam', 'Steve', 'Rick', 'Thomas']\n",
    "majors = ['Math', 'Engineering', 'CompSci', 'Arts', 'Business']"
   ]
  },
  {
   "cell_type": "code",
   "execution_count": 95,
   "metadata": {},
   "outputs": [],
   "source": [
    "def students_list(num_students):\n",
    "    list = []\n",
    "    for num in range(num_students):\n",
    "        newDict = {\n",
    "            \"id\": num,\n",
    "            \"name\": names[random.randint(0, 5)],\n",
    "            \"major\": majors[random.randint(0, 4)]\n",
    "        }\n",
    "        list.append(newDict)\n",
    "    return list"
   ]
  },
  {
   "cell_type": "code",
   "execution_count": 98,
   "metadata": {},
   "outputs": [],
   "source": [
    "people = students_list(5)"
   ]
  },
  {
   "cell_type": "code",
   "execution_count": 99,
   "metadata": {},
   "outputs": [
    {
     "name": "stdout",
     "output_type": "stream",
     "text": [
      "[{'id': 0, 'name': 'Adam', 'major': 'Math'}, {'id': 1, 'name': 'John', 'major': 'Engineering'}, {'id': 2, 'name': 'Thomas', 'major': 'Business'}, {'id': 3, 'name': 'Steve', 'major': 'Business'}, {'id': 4, 'name': 'Steve', 'major': 'Math'}]\n"
     ]
    }
   ],
   "source": [
    "print(people)"
   ]
  },
  {
   "cell_type": "code",
   "execution_count": null,
   "metadata": {},
   "outputs": [],
   "source": []
  },
  {
   "cell_type": "code",
   "execution_count": 103,
   "metadata": {},
   "outputs": [],
   "source": [
    "def students_generator(num_students):\n",
    "    for student in range(num_students):\n",
    "        newStudent = {\n",
    "            \"id\": student,\n",
    "            \"name\": names[random.randint(0, 5)],\n",
    "            \"major\": majors[random.randint(0, 4)]\n",
    "        }\n",
    "        yield newStudent"
   ]
  },
  {
   "cell_type": "code",
   "execution_count": 123,
   "metadata": {},
   "outputs": [],
   "source": [
    "people = students_generator(10)"
   ]
  },
  {
   "cell_type": "code",
   "execution_count": 126,
   "metadata": {},
   "outputs": [
    {
     "data": {
      "text/plain": [
       "{'id': 2, 'name': 'Steve', 'major': 'Arts'}"
      ]
     },
     "execution_count": 126,
     "metadata": {},
     "output_type": "execute_result"
    }
   ],
   "source": [
    "next(people)"
   ]
  }
 ],
 "metadata": {
  "kernelspec": {
   "display_name": "Python 3",
   "language": "python",
   "name": "python3"
  },
  "language_info": {
   "codemirror_mode": {
    "name": "ipython",
    "version": 3
   },
   "file_extension": ".py",
   "mimetype": "text/x-python",
   "name": "python",
   "nbconvert_exporter": "python",
   "pygments_lexer": "ipython3",
   "version": "3.8.5"
  }
 },
 "nbformat": 4,
 "nbformat_minor": 4
}
