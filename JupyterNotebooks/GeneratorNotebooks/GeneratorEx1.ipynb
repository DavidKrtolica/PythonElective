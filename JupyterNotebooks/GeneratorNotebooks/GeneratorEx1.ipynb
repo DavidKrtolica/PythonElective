{
 "cells": [
  {
   "cell_type": "code",
   "execution_count": 131,
   "metadata": {},
   "outputs": [],
   "source": [
    "class PythonStudents:\n",
    "    \n",
    "    def __init__(self, students):\n",
    "        self.students = students\n",
    "        \n",
    "    def __len__(self):\n",
    "        return len(self.students)\n",
    "            \n",
    "    def __iter__(self):\n",
    "        self.last = -1\n",
    "        return self\n",
    "\n",
    "    def __next__(self):\n",
    "        if self.last > (len(self.students) - 2):\n",
    "            raise StopIteration()\n",
    "        else:\n",
    "            self.last += 1\n",
    "            return self.students[self.last]\n",
    "    \n",
    "class Student:\n",
    "\n",
    "    def __init__(self, name, cpr):\n",
    "        self.name = name\n",
    "        self.cpr = cpr\n",
    "\n",
    "    @property\n",
    "    def name(self):\n",
    "        return self.__name\n",
    "\n",
    "    @name.setter\n",
    "    def name(self, name):\n",
    "        self.__name = name.capitalize()\n",
    "\n",
    "    def __add__(self, student):\n",
    "        return Student('Anna the daugther', 1234)\n",
    "\n",
    "    def __str__(self):\n",
    "        return f'{self.name}, {self.cpr}'\n",
    "\n",
    "    def __repr__(self):\n",
    "        return f'{self.__dict__}'"
   ]
  },
  {
   "cell_type": "code",
   "execution_count": 140,
   "metadata": {},
   "outputs": [],
   "source": [
    "student1 = Student('Claus', 1234)\n",
    "student2 = Student('David', 5678)\n",
    "student3 = Student('Marko', 2233)\n",
    "student4 = Student('Zarko', 3344)\n",
    "student5 = Student('Smrad', 6521)\n",
    "listOfStudents = [student1, student2, student3, student4, student5]\n",
    "ls = PythonStudents(listOfStudents)"
   ]
  },
  {
   "cell_type": "code",
   "execution_count": 148,
   "metadata": {},
   "outputs": [],
   "source": [
    "itr = iter(ls)"
   ]
  },
  {
   "cell_type": "code",
   "execution_count": 150,
   "metadata": {},
   "outputs": [
    {
     "data": {
      "text/plain": [
       "{'_Student__name': 'David', 'cpr': 5678}"
      ]
     },
     "execution_count": 150,
     "metadata": {},
     "output_type": "execute_result"
    }
   ],
   "source": [
    "next(itr)"
   ]
  },
  {
   "cell_type": "code",
   "execution_count": null,
   "metadata": {},
   "outputs": [],
   "source": []
  }
 ],
 "metadata": {
  "kernelspec": {
   "display_name": "Python 3",
   "language": "python",
   "name": "python3"
  },
  "language_info": {
   "codemirror_mode": {
    "name": "ipython",
    "version": 3
   },
   "file_extension": ".py",
   "mimetype": "text/x-python",
   "name": "python",
   "nbconvert_exporter": "python",
   "pygments_lexer": "ipython3",
   "version": "3.8.5"
  }
 },
 "nbformat": 4,
 "nbformat_minor": 4
}
