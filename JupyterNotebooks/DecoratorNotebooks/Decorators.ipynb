{
 "cells": [
  {
   "cell_type": "markdown",
   "id": "danish-column",
   "metadata": {},
   "source": [
    "# Decorators"
   ]
  },
  {
   "cell_type": "markdown",
   "id": "persistent-bonus",
   "metadata": {},
   "source": [
    "## First class functions"
   ]
  },
  {
   "cell_type": "code",
   "execution_count": 13,
   "id": "convinced-arthritis",
   "metadata": {},
   "outputs": [],
   "source": [
    "def my_first_function(func):\n",
    "    print(func([1, 2, 3]))\n",
    "    return None "
   ]
  },
  {
   "cell_type": "code",
   "execution_count": 7,
   "id": "basic-assets",
   "metadata": {},
   "outputs": [
    {
     "data": {
      "text/plain": [
       "12"
      ]
     },
     "execution_count": 7,
     "metadata": {},
     "output_type": "execute_result"
    }
   ],
   "source": [
    "my_first_function(12)"
   ]
  },
  {
   "cell_type": "code",
   "execution_count": 8,
   "id": "still-western",
   "metadata": {},
   "outputs": [
    {
     "data": {
      "text/plain": [
       "'Hello'"
      ]
     },
     "execution_count": 8,
     "metadata": {},
     "output_type": "execute_result"
    }
   ],
   "source": [
    "my_first_function('Hello')"
   ]
  },
  {
   "cell_type": "code",
   "execution_count": 9,
   "id": "physical-table",
   "metadata": {},
   "outputs": [],
   "source": [
    "x = my_first_function(len)"
   ]
  },
  {
   "cell_type": "code",
   "execution_count": 14,
   "id": "middle-orientation",
   "metadata": {},
   "outputs": [
    {
     "data": {
      "text/plain": [
       "4"
      ]
     },
     "execution_count": 14,
     "metadata": {},
     "output_type": "execute_result"
    }
   ],
   "source": [
    "x([1, 2, 3, 4])"
   ]
  },
  {
   "cell_type": "code",
   "execution_count": 15,
   "id": "selective-spotlight",
   "metadata": {},
   "outputs": [
    {
     "data": {
      "text/plain": [
       "2"
      ]
     },
     "execution_count": 15,
     "metadata": {},
     "output_type": "execute_result"
    }
   ],
   "source": [
    "x('Hi')"
   ]
  },
  {
   "cell_type": "code",
   "execution_count": 16,
   "id": "chicken-wagner",
   "metadata": {},
   "outputs": [
    {
     "data": {
      "text/plain": [
       "<function len(obj, /)>"
      ]
     },
     "execution_count": 16,
     "metadata": {},
     "output_type": "execute_result"
    }
   ],
   "source": [
    "x"
   ]
  },
  {
   "cell_type": "markdown",
   "id": "sustained-beijing",
   "metadata": {},
   "source": [
    "## Inner functions"
   ]
  },
  {
   "cell_type": "code",
   "execution_count": 20,
   "id": "located-position",
   "metadata": {},
   "outputs": [],
   "source": [
    "def foo():\n",
    "    def inner():\n",
    "        return 'inner message'\n",
    "    \n",
    "    return inner"
   ]
  },
  {
   "cell_type": "code",
   "execution_count": 21,
   "id": "formed-eugene",
   "metadata": {},
   "outputs": [
    {
     "data": {
      "text/plain": [
       "<function __main__.foo.<locals>.inner()>"
      ]
     },
     "execution_count": 21,
     "metadata": {},
     "output_type": "execute_result"
    }
   ],
   "source": [
    "foo()"
   ]
  },
  {
   "cell_type": "code",
   "execution_count": 22,
   "id": "centered-forestry",
   "metadata": {},
   "outputs": [
    {
     "name": "stdout",
     "output_type": "stream",
     "text": [
      "<function foo at 0x7f52a82a81f0>\n"
     ]
    }
   ],
   "source": [
    "print(foo)"
   ]
  },
  {
   "cell_type": "code",
   "execution_count": 23,
   "id": "fundamental-greenhouse",
   "metadata": {},
   "outputs": [
    {
     "name": "stdout",
     "output_type": "stream",
     "text": [
      "<function foo.<locals>.inner at 0x7f52a82a8160>\n"
     ]
    }
   ],
   "source": [
    "print(foo())"
   ]
  },
  {
   "cell_type": "code",
   "execution_count": 24,
   "id": "excellent-ontario",
   "metadata": {},
   "outputs": [],
   "source": [
    "x = foo()"
   ]
  },
  {
   "cell_type": "code",
   "execution_count": 25,
   "id": "portable-traveler",
   "metadata": {},
   "outputs": [
    {
     "data": {
      "text/plain": [
       "'inner message'"
      ]
     },
     "execution_count": 25,
     "metadata": {},
     "output_type": "execute_result"
    }
   ],
   "source": [
    "x()"
   ]
  },
  {
   "cell_type": "code",
   "execution_count": 26,
   "id": "worldwide-business",
   "metadata": {},
   "outputs": [
    {
     "data": {
      "text/plain": [
       "'inner message'"
      ]
     },
     "execution_count": 26,
     "metadata": {},
     "output_type": "execute_result"
    }
   ],
   "source": [
    "foo()()"
   ]
  },
  {
   "cell_type": "markdown",
   "id": "technological-sender",
   "metadata": {},
   "source": [
    "## Decorators"
   ]
  },
  {
   "cell_type": "code",
   "execution_count": 44,
   "id": "further-nudist",
   "metadata": {},
   "outputs": [],
   "source": [
    "def my_decorator(func):\n",
    "    def  wrapper():\n",
    "        print('Before')\n",
    "        func()\n",
    "        print('After')\n",
    "    \n",
    "    return wrapper"
   ]
  },
  {
   "cell_type": "code",
   "execution_count": 45,
   "id": "unusual-enhancement",
   "metadata": {},
   "outputs": [],
   "source": [
    "def greet():\n",
    "    print('Hello!')"
   ]
  },
  {
   "cell_type": "code",
   "execution_count": 46,
   "id": "coordinate-drain",
   "metadata": {},
   "outputs": [
    {
     "name": "stdout",
     "output_type": "stream",
     "text": [
      "Hello!\n"
     ]
    }
   ],
   "source": [
    "greet()"
   ]
  },
  {
   "cell_type": "code",
   "execution_count": 49,
   "id": "printable-string",
   "metadata": {},
   "outputs": [
    {
     "data": {
      "text/plain": [
       "<function __main__.my_decorator.<locals>.wrapper()>"
      ]
     },
     "execution_count": 49,
     "metadata": {},
     "output_type": "execute_result"
    }
   ],
   "source": [
    "my_decorator(greet)"
   ]
  },
  {
   "cell_type": "code",
   "execution_count": 50,
   "id": "rubber-thought",
   "metadata": {},
   "outputs": [
    {
     "name": "stdout",
     "output_type": "stream",
     "text": [
      "Before\n",
      "Hello!\n",
      "After\n"
     ]
    }
   ],
   "source": [
    "x = my_decorator(greet)\n",
    "x()"
   ]
  },
  {
   "cell_type": "code",
   "execution_count": 53,
   "id": "remarkable-dallas",
   "metadata": {},
   "outputs": [
    {
     "name": "stdout",
     "output_type": "stream",
     "text": [
      "Before\n",
      "Hello!\n",
      "After\n"
     ]
    }
   ],
   "source": [
    "my_decorator(greet)()"
   ]
  },
  {
   "cell_type": "markdown",
   "id": "adolescent-father",
   "metadata": {},
   "source": [
    "## Syntactic sugar"
   ]
  },
  {
   "cell_type": "code",
   "execution_count": 58,
   "id": "collective-analysis",
   "metadata": {},
   "outputs": [],
   "source": [
    "@my_decorator\n",
    "def greet2():\n",
    "    print ('Hello world 2!')"
   ]
  },
  {
   "cell_type": "code",
   "execution_count": 63,
   "id": "important-replica",
   "metadata": {},
   "outputs": [
    {
     "name": "stdout",
     "output_type": "stream",
     "text": [
      "Before\n",
      "Hello world 2!\n",
      "After\n"
     ]
    }
   ],
   "source": [
    "greet2()"
   ]
  },
  {
   "cell_type": "markdown",
   "id": "blank-mining",
   "metadata": {},
   "source": [
    "## Decorate functions with params"
   ]
  },
  {
   "cell_type": "code",
   "execution_count": 77,
   "id": "equivalent-breakfast",
   "metadata": {},
   "outputs": [],
   "source": [
    "def new_decorator(func):\n",
    "    def  wrapper(*args):\n",
    "        print('Before')\n",
    "        func(*args)\n",
    "        print('After')\n",
    "    \n",
    "    return wrapper"
   ]
  },
  {
   "cell_type": "code",
   "execution_count": 80,
   "id": "burning-somerset",
   "metadata": {},
   "outputs": [],
   "source": [
    "@new_decorator\n",
    "def greetings(x, y):\n",
    "    print (f'Hello {x} {y}!')"
   ]
  },
  {
   "cell_type": "code",
   "execution_count": 82,
   "id": "familiar-window",
   "metadata": {},
   "outputs": [
    {
     "name": "stdout",
     "output_type": "stream",
     "text": [
      "Before\n",
      "Hello David Krtolica!\n",
      "After\n"
     ]
    }
   ],
   "source": [
    "greetings('David', 'Krtolica')"
   ]
  },
  {
   "cell_type": "code",
   "execution_count": 83,
   "id": "compliant-archives",
   "metadata": {},
   "outputs": [],
   "source": [
    "@new_decorator\n",
    "def add(x, y, z):\n",
    "    print(f'{x + y + z}')"
   ]
  },
  {
   "cell_type": "code",
   "execution_count": 84,
   "id": "subject-short",
   "metadata": {},
   "outputs": [
    {
     "name": "stdout",
     "output_type": "stream",
     "text": [
      "Before\n",
      "10\n",
      "After\n"
     ]
    }
   ],
   "source": [
    "add(2, 5, 3)"
   ]
  },
  {
   "cell_type": "markdown",
   "id": "facial-farming",
   "metadata": {},
   "source": [
    "## Returning values from decorators"
   ]
  },
  {
   "cell_type": "code",
   "execution_count": 101,
   "id": "above-snake",
   "metadata": {},
   "outputs": [],
   "source": [
    "def another_func(func):\n",
    "    def wrapper(*args):\n",
    "        x = 'Before...'\n",
    "        x += func(*args)\n",
    "        x += '...After'\n",
    "        return x\n",
    "    return wrapper"
   ]
  },
  {
   "cell_type": "code",
   "execution_count": 102,
   "id": "incorporated-description",
   "metadata": {},
   "outputs": [],
   "source": [
    "@another_func\n",
    "def msg(name):\n",
    "    return f'Hello {name}'"
   ]
  },
  {
   "cell_type": "code",
   "execution_count": 104,
   "id": "numerical-diesel",
   "metadata": {},
   "outputs": [
    {
     "data": {
      "text/plain": [
       "'Before...Hello David...After'"
      ]
     },
     "execution_count": 104,
     "metadata": {},
     "output_type": "execute_result"
    }
   ],
   "source": [
    "msg('David')"
   ]
  },
  {
   "cell_type": "code",
   "execution_count": 106,
   "id": "posted-batman",
   "metadata": {},
   "outputs": [],
   "source": [
    "@another_func\n",
    "def add(x, y, z):\n",
    "    return f'{x + y + z}'"
   ]
  },
  {
   "cell_type": "code",
   "execution_count": 109,
   "id": "supported-belfast",
   "metadata": {},
   "outputs": [
    {
     "data": {
      "text/plain": [
       "'Before...10...After'"
      ]
     },
     "execution_count": 109,
     "metadata": {},
     "output_type": "execute_result"
    }
   ],
   "source": [
    "add(2, 3, 5)"
   ]
  }
 ],
 "metadata": {
  "kernelspec": {
   "display_name": "Python 3",
   "language": "python",
   "name": "python3"
  },
  "language_info": {
   "codemirror_mode": {
    "name": "ipython",
    "version": 3
   },
   "file_extension": ".py",
   "mimetype": "text/x-python",
   "name": "python",
   "nbconvert_exporter": "python",
   "pygments_lexer": "ipython3",
   "version": "3.8.8"
  }
 },
 "nbformat": 4,
 "nbformat_minor": 5
}
