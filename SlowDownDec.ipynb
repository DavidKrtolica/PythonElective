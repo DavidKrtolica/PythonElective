{
 "cells": [
  {
   "cell_type": "code",
   "execution_count": 7,
   "id": "pleasant-italic",
   "metadata": {},
   "outputs": [],
   "source": [
    "import time\n",
    "\n",
    "def slowDown(timeoutSeconds):\n",
    "    def actual_decorator(func):\n",
    "        def wrapper(arg):\n",
    "            value = func(arg)\n",
    "            while arg > 0:\n",
    "                time.sleep(timeoutSeconds)\n",
    "                return value\n",
    "        return wrapper\n",
    "    return actual_decorator"
   ]
  },
  {
   "cell_type": "code",
   "execution_count": 8,
   "id": "sitting-denmark",
   "metadata": {},
   "outputs": [],
   "source": [
    "@slowDown(5)\n",
    "def countdown(n):\n",
    "    if not n:\n",
    "        return n\n",
    "    else:\n",
    "        print(n, end=' ')\n",
    "        return countdown(n-1)"
   ]
  },
  {
   "cell_type": "code",
   "execution_count": 9,
   "id": "animated-virtue",
   "metadata": {},
   "outputs": [
    {
     "name": "stdout",
     "output_type": "stream",
     "text": [
      "5 4 3 2 1 "
     ]
    }
   ],
   "source": [
    "countdown(5)"
   ]
  },
  {
   "cell_type": "code",
   "execution_count": 10,
   "id": "finnish-williams",
   "metadata": {},
   "outputs": [
    {
     "name": "stdout",
     "output_type": "stream",
     "text": [
      "5 4 3 2 1 "
     ]
    }
   ],
   "source": [
    "countdown(5)"
   ]
  },
  {
   "cell_type": "code",
   "execution_count": null,
   "id": "loose-crisis",
   "metadata": {},
   "outputs": [],
   "source": []
  }
 ],
 "metadata": {
  "kernelspec": {
   "display_name": "Python 3",
   "language": "python",
   "name": "python3"
  },
  "language_info": {
   "codemirror_mode": {
    "name": "ipython",
    "version": 3
   },
   "file_extension": ".py",
   "mimetype": "text/x-python",
   "name": "python",
   "nbconvert_exporter": "python",
   "pygments_lexer": "ipython3",
   "version": "3.8.8"
  }
 },
 "nbformat": 4,
 "nbformat_minor": 5
}
